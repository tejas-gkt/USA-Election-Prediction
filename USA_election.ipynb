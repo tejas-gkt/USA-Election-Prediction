{
 "cells": [
  {
   "cell_type": "code",
   "execution_count": 2,
   "id": "2a4c7bf6",
   "metadata": {},
   "outputs": [],
   "source": [
    "import numpy as np\n",
    "import pandas as pd\n",
    "from itertools import accumulate\n",
    "import matplotlib.pyplot as plt\n",
    "import seaborn as sns\n",
    "from sklearn.linear_model import LogisticRegression\n",
    "\n",
    "def warn(*warn,**kwargs):\n",
    "    pass\n",
    "import warnings\n",
    "warnings.warn = warn\n",
    "warnings.filterwarnings('ignore')\n",
    "\n",
    "sns.set_context('notebook')\n",
    "sns.set_style('white')"
   ]
  },
  {
   "cell_type": "code",
   "execution_count": 3,
   "id": "46201fc8",
   "metadata": {},
   "outputs": [],
   "source": [
    "# Reading csv files\n",
    "polls_24 = pd.read_csv('https://cf-courses-data.s3.us.cloud-object-storage.appdomain.cloud/Seajal9QNMDlBKfzc5Kpaw/presidential-general-averages.csv')\n",
    "polls_20 = pd.read_csv('https://cf-courses-data.s3.us.cloud-object-storage.appdomain.cloud/knh9Y6QVeSDqFb2dZejjdA/presidential-poll-averages-2020.csv')\n",
    "polls_until_16 = pd.read_csv('https://cf-courses-data.s3.us.cloud-object-storage.appdomain.cloud/cVut-n5JrpJcrXKX9A7jIA/pres-pollaverages-1968-2016.csv')\n"
   ]
  },
  {
   "cell_type": "code",
   "execution_count": 4,
   "id": "df06d1d9",
   "metadata": {},
   "outputs": [
    {
     "data": {
      "text/html": [
       "<div>\n",
       "<style scoped>\n",
       "    .dataframe tbody tr th:only-of-type {\n",
       "        vertical-align: middle;\n",
       "    }\n",
       "\n",
       "    .dataframe tbody tr th {\n",
       "        vertical-align: top;\n",
       "    }\n",
       "\n",
       "    .dataframe thead th {\n",
       "        text-align: right;\n",
       "    }\n",
       "</style>\n",
       "<table border=\"1\" class=\"dataframe\">\n",
       "  <thead>\n",
       "    <tr style=\"text-align: right;\">\n",
       "      <th></th>\n",
       "      <th>candidate</th>\n",
       "      <th>date</th>\n",
       "      <th>pct_trend_adjusted</th>\n",
       "      <th>state</th>\n",
       "      <th>cycle</th>\n",
       "      <th>party</th>\n",
       "      <th>pct_estimate</th>\n",
       "      <th>hi</th>\n",
       "      <th>lo</th>\n",
       "    </tr>\n",
       "  </thead>\n",
       "  <tbody>\n",
       "    <tr>\n",
       "      <th>0</th>\n",
       "      <td>Joseph R. Biden Jr.</td>\n",
       "      <td>2020-11-03</td>\n",
       "      <td>37.82732</td>\n",
       "      <td>Alabama</td>\n",
       "      <td>2020</td>\n",
       "      <td>NaN</td>\n",
       "      <td>NaN</td>\n",
       "      <td>NaN</td>\n",
       "      <td>NaN</td>\n",
       "    </tr>\n",
       "    <tr>\n",
       "      <th>1</th>\n",
       "      <td>Donald Trump</td>\n",
       "      <td>2020-11-03</td>\n",
       "      <td>57.36126</td>\n",
       "      <td>Alabama</td>\n",
       "      <td>2020</td>\n",
       "      <td>NaN</td>\n",
       "      <td>NaN</td>\n",
       "      <td>NaN</td>\n",
       "      <td>NaN</td>\n",
       "    </tr>\n",
       "    <tr>\n",
       "      <th>2</th>\n",
       "      <td>Joseph R. Biden Jr.</td>\n",
       "      <td>2020-11-02</td>\n",
       "      <td>37.82732</td>\n",
       "      <td>Alabama</td>\n",
       "      <td>2020</td>\n",
       "      <td>NaN</td>\n",
       "      <td>NaN</td>\n",
       "      <td>NaN</td>\n",
       "      <td>NaN</td>\n",
       "    </tr>\n",
       "    <tr>\n",
       "      <th>3</th>\n",
       "      <td>Donald Trump</td>\n",
       "      <td>2020-11-02</td>\n",
       "      <td>57.36126</td>\n",
       "      <td>Alabama</td>\n",
       "      <td>2020</td>\n",
       "      <td>NaN</td>\n",
       "      <td>NaN</td>\n",
       "      <td>NaN</td>\n",
       "      <td>NaN</td>\n",
       "    </tr>\n",
       "    <tr>\n",
       "      <th>4</th>\n",
       "      <td>Joseph R. Biden Jr.</td>\n",
       "      <td>2020-11-01</td>\n",
       "      <td>38.07011</td>\n",
       "      <td>Alabama</td>\n",
       "      <td>2020</td>\n",
       "      <td>NaN</td>\n",
       "      <td>NaN</td>\n",
       "      <td>NaN</td>\n",
       "      <td>NaN</td>\n",
       "    </tr>\n",
       "  </tbody>\n",
       "</table>\n",
       "</div>"
      ],
      "text/plain": [
       "             candidate        date  pct_trend_adjusted    state  cycle party  \\\n",
       "0  Joseph R. Biden Jr.  2020-11-03            37.82732  Alabama   2020   NaN   \n",
       "1         Donald Trump  2020-11-03            57.36126  Alabama   2020   NaN   \n",
       "2  Joseph R. Biden Jr.  2020-11-02            37.82732  Alabama   2020   NaN   \n",
       "3         Donald Trump  2020-11-02            57.36126  Alabama   2020   NaN   \n",
       "4  Joseph R. Biden Jr.  2020-11-01            38.07011  Alabama   2020   NaN   \n",
       "\n",
       "   pct_estimate  hi  lo  \n",
       "0           NaN NaN NaN  \n",
       "1           NaN NaN NaN  \n",
       "2           NaN NaN NaN  \n",
       "3           NaN NaN NaN  \n",
       "4           NaN NaN NaN  "
      ]
     },
     "execution_count": 4,
     "metadata": {},
     "output_type": "execute_result"
    }
   ],
   "source": [
    "polls_24.head()"
   ]
  },
  {
   "cell_type": "code",
   "execution_count": 5,
   "id": "55fe01d7",
   "metadata": {},
   "outputs": [
    {
     "name": "stdout",
     "output_type": "stream",
     "text": [
      "<class 'pandas.core.frame.DataFrame'>\n",
      "RangeIndex: 29081 entries, 0 to 29080\n",
      "Data columns (total 9 columns):\n",
      " #   Column              Non-Null Count  Dtype  \n",
      "---  ------              --------------  -----  \n",
      " 0   candidate           29081 non-null  object \n",
      " 1   date                29081 non-null  object \n",
      " 2   pct_trend_adjusted  21300 non-null  float64\n",
      " 3   state               29081 non-null  object \n",
      " 4   cycle               29081 non-null  int64  \n",
      " 5   party               7781 non-null   object \n",
      " 6   pct_estimate        7781 non-null   float64\n",
      " 7   hi                  7781 non-null   float64\n",
      " 8   lo                  7781 non-null   float64\n",
      "dtypes: float64(4), int64(1), object(4)\n",
      "memory usage: 2.0+ MB\n"
     ]
    }
   ],
   "source": [
    "polls_24.info()"
   ]
  },
  {
   "cell_type": "code",
   "execution_count": 6,
   "id": "aa707d1d",
   "metadata": {},
   "outputs": [
    {
     "data": {
      "text/plain": [
       "cycle\n",
       "2020    21300\n",
       "2024     7781\n",
       "Name: count, dtype: int64"
      ]
     },
     "execution_count": 6,
     "metadata": {},
     "output_type": "execute_result"
    }
   ],
   "source": [
    "polls_24.cycle.value_counts()"
   ]
  },
  {
   "cell_type": "code",
   "execution_count": 7,
   "id": "e3e961ad",
   "metadata": {},
   "outputs": [
    {
     "data": {
      "text/plain": [
       "party\n",
       "REP    3006\n",
       "DEM    3006\n",
       "IND    1769\n",
       "Name: count, dtype: int64"
      ]
     },
     "execution_count": 7,
     "metadata": {},
     "output_type": "execute_result"
    }
   ],
   "source": [
    "polls_24.party.value_counts()"
   ]
  },
  {
   "cell_type": "code",
   "execution_count": 8,
   "id": "7da660b4",
   "metadata": {},
   "outputs": [
    {
     "data": {
      "text/plain": [
       "21300"
      ]
     },
     "execution_count": 8,
     "metadata": {},
     "output_type": "execute_result"
    }
   ],
   "source": [
    "polls_24.party.isnull().sum()"
   ]
  },
  {
   "cell_type": "code",
   "execution_count": 10,
   "id": "8a449de4",
   "metadata": {},
   "outputs": [
    {
     "data": {
      "text/plain": [
       "pct_estimate\n",
       "46.274450    3\n",
       "47.175500    2\n",
       "42.006600    2\n",
       "40.707400    2\n",
       "44.129950    2\n",
       "            ..\n",
       "44.412650    1\n",
       "45.759350    1\n",
       "4.102235     1\n",
       "44.177550    1\n",
       "38.852800    1\n",
       "Name: count, Length: 7737, dtype: int64"
      ]
     },
     "execution_count": 10,
     "metadata": {},
     "output_type": "execute_result"
    }
   ],
   "source": [
    "polls_24.pct_estimate.value_counts()"
   ]
  },
  {
   "cell_type": "code",
   "execution_count": 12,
   "id": "6c3931a9",
   "metadata": {},
   "outputs": [],
   "source": [
    "polls_24 = polls_24[polls_24['cycle']==2024]"
   ]
  },
  {
   "cell_type": "code",
   "execution_count": 13,
   "id": "1412716d",
   "metadata": {},
   "outputs": [],
   "source": [
    "polls_until_20 = pd.concat([polls_20, polls_until_16], ignore_index=True)"
   ]
  },
  {
   "cell_type": "code",
   "execution_count": 14,
   "id": "a58dc2d8",
   "metadata": {},
   "outputs": [
    {
     "name": "stdout",
     "output_type": "stream",
     "text": [
      "<class 'pandas.core.frame.DataFrame'>\n",
      "Index: 7781 entries, 21300 to 29080\n",
      "Data columns (total 9 columns):\n",
      " #   Column              Non-Null Count  Dtype  \n",
      "---  ------              --------------  -----  \n",
      " 0   candidate           7781 non-null   object \n",
      " 1   date                7781 non-null   object \n",
      " 2   pct_trend_adjusted  0 non-null      float64\n",
      " 3   state               7781 non-null   object \n",
      " 4   cycle               7781 non-null   int64  \n",
      " 5   party               7781 non-null   object \n",
      " 6   pct_estimate        7781 non-null   float64\n",
      " 7   hi                  7781 non-null   float64\n",
      " 8   lo                  7781 non-null   float64\n",
      "dtypes: float64(4), int64(1), object(4)\n",
      "memory usage: 607.9+ KB\n"
     ]
    }
   ],
   "source": [
    "polls_24.info()"
   ]
  },
  {
   "cell_type": "code",
   "execution_count": 15,
   "id": "33774bba",
   "metadata": {},
   "outputs": [],
   "source": [
    "polls_24['date'] = pd.to_datetime(polls_24['date'],format=\"%Y-%m-%d\")"
   ]
  },
  {
   "cell_type": "code",
   "execution_count": 16,
   "id": "9295f159",
   "metadata": {},
   "outputs": [
    {
     "data": {
      "text/html": [
       "<div>\n",
       "<style scoped>\n",
       "    .dataframe tbody tr th:only-of-type {\n",
       "        vertical-align: middle;\n",
       "    }\n",
       "\n",
       "    .dataframe tbody tr th {\n",
       "        vertical-align: top;\n",
       "    }\n",
       "\n",
       "    .dataframe thead th {\n",
       "        text-align: right;\n",
       "    }\n",
       "</style>\n",
       "<table border=\"1\" class=\"dataframe\">\n",
       "  <thead>\n",
       "    <tr style=\"text-align: right;\">\n",
       "      <th></th>\n",
       "      <th>cycle</th>\n",
       "      <th>state</th>\n",
       "      <th>modeldate</th>\n",
       "      <th>candidate_name</th>\n",
       "      <th>pct_estimate</th>\n",
       "      <th>pct_trend_adjusted</th>\n",
       "      <th>candidate_id</th>\n",
       "      <th>timestamp</th>\n",
       "      <th>comment</th>\n",
       "      <th>election_date</th>\n",
       "      <th>...</th>\n",
       "      <th>_defaultbasetime</th>\n",
       "      <th>_numloops</th>\n",
       "      <th>_state_houseeffects_weight</th>\n",
       "      <th>_state_trendline_weight</th>\n",
       "      <th>_out_of_state_house_discount</th>\n",
       "      <th>_house_effects_multiplier</th>\n",
       "      <th>_attenuate_endpoints</th>\n",
       "      <th>_nonlinear_polynomial_degree</th>\n",
       "      <th>_shortpoly_combpoly_weight</th>\n",
       "      <th>_nat_shortpoly_combpoly_weight</th>\n",
       "    </tr>\n",
       "  </thead>\n",
       "  <tbody>\n",
       "    <tr>\n",
       "      <th>0</th>\n",
       "      <td>2020</td>\n",
       "      <td>Wyoming</td>\n",
       "      <td>11/3/2020</td>\n",
       "      <td>Joseph R. Biden Jr.</td>\n",
       "      <td>30.81486</td>\n",
       "      <td>30.82599</td>\n",
       "      <td>NaN</td>\n",
       "      <td>NaN</td>\n",
       "      <td>NaN</td>\n",
       "      <td>NaN</td>\n",
       "      <td>...</td>\n",
       "      <td>NaN</td>\n",
       "      <td>NaN</td>\n",
       "      <td>NaN</td>\n",
       "      <td>NaN</td>\n",
       "      <td>NaN</td>\n",
       "      <td>NaN</td>\n",
       "      <td>NaN</td>\n",
       "      <td>NaN</td>\n",
       "      <td>NaN</td>\n",
       "      <td>NaN</td>\n",
       "    </tr>\n",
       "    <tr>\n",
       "      <th>1</th>\n",
       "      <td>2020</td>\n",
       "      <td>Wisconsin</td>\n",
       "      <td>11/3/2020</td>\n",
       "      <td>Joseph R. Biden Jr.</td>\n",
       "      <td>52.12642</td>\n",
       "      <td>52.09584</td>\n",
       "      <td>NaN</td>\n",
       "      <td>NaN</td>\n",
       "      <td>NaN</td>\n",
       "      <td>NaN</td>\n",
       "      <td>...</td>\n",
       "      <td>NaN</td>\n",
       "      <td>NaN</td>\n",
       "      <td>NaN</td>\n",
       "      <td>NaN</td>\n",
       "      <td>NaN</td>\n",
       "      <td>NaN</td>\n",
       "      <td>NaN</td>\n",
       "      <td>NaN</td>\n",
       "      <td>NaN</td>\n",
       "      <td>NaN</td>\n",
       "    </tr>\n",
       "    <tr>\n",
       "      <th>2</th>\n",
       "      <td>2020</td>\n",
       "      <td>West Virginia</td>\n",
       "      <td>11/3/2020</td>\n",
       "      <td>Joseph R. Biden Jr.</td>\n",
       "      <td>33.49125</td>\n",
       "      <td>33.51517</td>\n",
       "      <td>NaN</td>\n",
       "      <td>NaN</td>\n",
       "      <td>NaN</td>\n",
       "      <td>NaN</td>\n",
       "      <td>...</td>\n",
       "      <td>NaN</td>\n",
       "      <td>NaN</td>\n",
       "      <td>NaN</td>\n",
       "      <td>NaN</td>\n",
       "      <td>NaN</td>\n",
       "      <td>NaN</td>\n",
       "      <td>NaN</td>\n",
       "      <td>NaN</td>\n",
       "      <td>NaN</td>\n",
       "      <td>NaN</td>\n",
       "    </tr>\n",
       "    <tr>\n",
       "      <th>3</th>\n",
       "      <td>2020</td>\n",
       "      <td>Washington</td>\n",
       "      <td>11/3/2020</td>\n",
       "      <td>Joseph R. Biden Jr.</td>\n",
       "      <td>59.34201</td>\n",
       "      <td>59.39408</td>\n",
       "      <td>NaN</td>\n",
       "      <td>NaN</td>\n",
       "      <td>NaN</td>\n",
       "      <td>NaN</td>\n",
       "      <td>...</td>\n",
       "      <td>NaN</td>\n",
       "      <td>NaN</td>\n",
       "      <td>NaN</td>\n",
       "      <td>NaN</td>\n",
       "      <td>NaN</td>\n",
       "      <td>NaN</td>\n",
       "      <td>NaN</td>\n",
       "      <td>NaN</td>\n",
       "      <td>NaN</td>\n",
       "      <td>NaN</td>\n",
       "    </tr>\n",
       "    <tr>\n",
       "      <th>4</th>\n",
       "      <td>2020</td>\n",
       "      <td>Virginia</td>\n",
       "      <td>11/3/2020</td>\n",
       "      <td>Joseph R. Biden Jr.</td>\n",
       "      <td>53.74120</td>\n",
       "      <td>53.72101</td>\n",
       "      <td>NaN</td>\n",
       "      <td>NaN</td>\n",
       "      <td>NaN</td>\n",
       "      <td>NaN</td>\n",
       "      <td>...</td>\n",
       "      <td>NaN</td>\n",
       "      <td>NaN</td>\n",
       "      <td>NaN</td>\n",
       "      <td>NaN</td>\n",
       "      <td>NaN</td>\n",
       "      <td>NaN</td>\n",
       "      <td>NaN</td>\n",
       "      <td>NaN</td>\n",
       "      <td>NaN</td>\n",
       "      <td>NaN</td>\n",
       "    </tr>\n",
       "  </tbody>\n",
       "</table>\n",
       "<p>5 rows × 32 columns</p>\n",
       "</div>"
      ],
      "text/plain": [
       "   cycle          state  modeldate       candidate_name  pct_estimate  \\\n",
       "0   2020        Wyoming  11/3/2020  Joseph R. Biden Jr.      30.81486   \n",
       "1   2020      Wisconsin  11/3/2020  Joseph R. Biden Jr.      52.12642   \n",
       "2   2020  West Virginia  11/3/2020  Joseph R. Biden Jr.      33.49125   \n",
       "3   2020     Washington  11/3/2020  Joseph R. Biden Jr.      59.34201   \n",
       "4   2020       Virginia  11/3/2020  Joseph R. Biden Jr.      53.74120   \n",
       "\n",
       "   pct_trend_adjusted  candidate_id timestamp comment election_date  ...  \\\n",
       "0            30.82599           NaN       NaN     NaN           NaN  ...   \n",
       "1            52.09584           NaN       NaN     NaN           NaN  ...   \n",
       "2            33.51517           NaN       NaN     NaN           NaN  ...   \n",
       "3            59.39408           NaN       NaN     NaN           NaN  ...   \n",
       "4            53.72101           NaN       NaN     NaN           NaN  ...   \n",
       "\n",
       "   _defaultbasetime  _numloops _state_houseeffects_weight  \\\n",
       "0               NaN        NaN                        NaN   \n",
       "1               NaN        NaN                        NaN   \n",
       "2               NaN        NaN                        NaN   \n",
       "3               NaN        NaN                        NaN   \n",
       "4               NaN        NaN                        NaN   \n",
       "\n",
       "   _state_trendline_weight  _out_of_state_house_discount  \\\n",
       "0                      NaN                           NaN   \n",
       "1                      NaN                           NaN   \n",
       "2                      NaN                           NaN   \n",
       "3                      NaN                           NaN   \n",
       "4                      NaN                           NaN   \n",
       "\n",
       "   _house_effects_multiplier  _attenuate_endpoints  \\\n",
       "0                        NaN                   NaN   \n",
       "1                        NaN                   NaN   \n",
       "2                        NaN                   NaN   \n",
       "3                        NaN                   NaN   \n",
       "4                        NaN                   NaN   \n",
       "\n",
       "   _nonlinear_polynomial_degree  _shortpoly_combpoly_weight  \\\n",
       "0                           NaN                         NaN   \n",
       "1                           NaN                         NaN   \n",
       "2                           NaN                         NaN   \n",
       "3                           NaN                         NaN   \n",
       "4                           NaN                         NaN   \n",
       "\n",
       "   _nat_shortpoly_combpoly_weight  \n",
       "0                             NaN  \n",
       "1                             NaN  \n",
       "2                             NaN  \n",
       "3                             NaN  \n",
       "4                             NaN  \n",
       "\n",
       "[5 rows x 32 columns]"
      ]
     },
     "execution_count": 16,
     "metadata": {},
     "output_type": "execute_result"
    }
   ],
   "source": [
    "polls_until_20.head()"
   ]
  },
  {
   "cell_type": "code",
   "execution_count": 17,
   "id": "764d938b",
   "metadata": {},
   "outputs": [],
   "source": [
    "polls_until_20['modeldate'] = pd.to_datetime(polls_until_20['modeldate'])"
   ]
  },
  {
   "cell_type": "code",
   "execution_count": 20,
   "id": "489c9c85",
   "metadata": {},
   "outputs": [
    {
     "data": {
      "text/plain": [
       "Index(['cycle', 'state', 'modeldate', 'candidate_name', 'pct_estimate',\n",
       "       'pct_trend_adjusted', 'candidate_id', 'timestamp', 'comment',\n",
       "       'election_date', 'election_qdate', 'last_qdate', 'last_enddate',\n",
       "       '_medpoly2', 'trend_medpoly2', '_shortpoly0', 'trend_shortpoly0',\n",
       "       'sum_weight_medium', 'sum_weight_short', 'sum_influence',\n",
       "       'sum_nat_influence', '_minpoints', '_defaultbasetime', '_numloops',\n",
       "       '_state_houseeffects_weight', '_state_trendline_weight',\n",
       "       '_out_of_state_house_discount', '_house_effects_multiplier',\n",
       "       '_attenuate_endpoints', '_nonlinear_polynomial_degree',\n",
       "       '_shortpoly_combpoly_weight', '_nat_shortpoly_combpoly_weight'],\n",
       "      dtype='object')"
      ]
     },
     "execution_count": 20,
     "metadata": {},
     "output_type": "execute_result"
    }
   ],
   "source": [
    "polls_until_20.columns"
   ]
  },
  {
   "cell_type": "code",
   "execution_count": 21,
   "id": "1ed4fd24",
   "metadata": {},
   "outputs": [
    {
     "name": "stdout",
     "output_type": "stream",
     "text": [
      "<class 'pandas.core.frame.DataFrame'>\n",
      "RangeIndex: 246558 entries, 0 to 246557\n",
      "Data columns (total 32 columns):\n",
      " #   Column                          Non-Null Count   Dtype         \n",
      "---  ------                          --------------   -----         \n",
      " 0   cycle                           246558 non-null  int64         \n",
      " 1   state                           246558 non-null  object        \n",
      " 2   modeldate                       246426 non-null  datetime64[ns]\n",
      " 3   candidate_name                  246558 non-null  object        \n",
      " 4   pct_estimate                    246558 non-null  float64       \n",
      " 5   pct_trend_adjusted              246558 non-null  float64       \n",
      " 6   candidate_id                    217473 non-null  float64       \n",
      " 7   timestamp                       217473 non-null  object        \n",
      " 8   comment                         217473 non-null  object        \n",
      " 9   election_date                   217473 non-null  object        \n",
      " 10  election_qdate                  217473 non-null  float64       \n",
      " 11  last_qdate                      217473 non-null  float64       \n",
      " 12  last_enddate                    217473 non-null  object        \n",
      " 13  _medpoly2                       120947 non-null  float64       \n",
      " 14  trend_medpoly2                  120947 non-null  float64       \n",
      " 15  _shortpoly0                     217473 non-null  float64       \n",
      " 16  trend_shortpoly0                217473 non-null  float64       \n",
      " 17  sum_weight_medium               217473 non-null  float64       \n",
      " 18  sum_weight_short                217473 non-null  float64       \n",
      " 19  sum_influence                   217473 non-null  float64       \n",
      " 20  sum_nat_influence               217473 non-null  float64       \n",
      " 21  _minpoints                      217473 non-null  float64       \n",
      " 22  _defaultbasetime                217473 non-null  float64       \n",
      " 23  _numloops                       217473 non-null  float64       \n",
      " 24  _state_houseeffects_weight      217473 non-null  float64       \n",
      " 25  _state_trendline_weight         217473 non-null  float64       \n",
      " 26  _out_of_state_house_discount    217473 non-null  float64       \n",
      " 27  _house_effects_multiplier       217473 non-null  float64       \n",
      " 28  _attenuate_endpoints            217473 non-null  object        \n",
      " 29  _nonlinear_polynomial_degree    217473 non-null  float64       \n",
      " 30  _shortpoly_combpoly_weight      217473 non-null  float64       \n",
      " 31  _nat_shortpoly_combpoly_weight  217473 non-null  float64       \n",
      "dtypes: datetime64[ns](1), float64(23), int64(1), object(7)\n",
      "memory usage: 60.2+ MB\n"
     ]
    }
   ],
   "source": [
    "polls_until_20.info()"
   ]
  },
  {
   "cell_type": "code",
   "execution_count": null,
   "id": "c58dfcb1",
   "metadata": {},
   "outputs": [],
   "source": []
  }
 ],
 "metadata": {
  "kernelspec": {
   "display_name": "Python 3 (ipykernel)",
   "language": "python",
   "name": "python3"
  },
  "language_info": {
   "codemirror_mode": {
    "name": "ipython",
    "version": 3
   },
   "file_extension": ".py",
   "mimetype": "text/x-python",
   "name": "python",
   "nbconvert_exporter": "python",
   "pygments_lexer": "ipython3",
   "version": "3.11.5"
  }
 },
 "nbformat": 4,
 "nbformat_minor": 5
}
